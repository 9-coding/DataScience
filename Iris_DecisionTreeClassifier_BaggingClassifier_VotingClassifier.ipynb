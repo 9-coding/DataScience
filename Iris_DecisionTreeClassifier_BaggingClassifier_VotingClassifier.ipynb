{
  "nbformat": 4,
  "nbformat_minor": 0,
  "metadata": {
    "colab": {
      "provenance": [],
      "authorship_tag": "ABX9TyPsuQJjUkFu4DQtul3RftiJ",
      "include_colab_link": true
    },
    "kernelspec": {
      "name": "python3",
      "display_name": "Python 3"
    },
    "language_info": {
      "name": "python"
    }
  },
  "cells": [
    {
      "cell_type": "markdown",
      "metadata": {
        "id": "view-in-github",
        "colab_type": "text"
      },
      "source": [
        "<a href=\"https://colab.research.google.com/github/9-coding/DataScience/blob/main/Iris_DecisionTreeClassifier_BaggingClassifier_VotingClassifier.ipynb\" target=\"_parent\"><img src=\"https://colab.research.google.com/assets/colab-badge.svg\" alt=\"Open In Colab\"/></a>"
      ]
    },
    {
      "cell_type": "code",
      "source": [
        "'''\n",
        "Using bagging method with a decision tree algorithm, \n",
        "predict with voting method and calculate the accuracy using confusion matrix. \n",
        "Datasets 10 iris-bagging datasets (for training 10 classifiers), each with 30 records 1 test dataset with 150 records \n",
        "Attributes: sepal length, sepal width, petal length, petal width \n",
        "Generate a decision tree classifier model using the sklearn DecisionTreeClassifier function \n",
        "Run 10 (training) bagging rounds with BaggingClassifier function. \n",
        "Using the test dataset, predict the labels using voting. \n",
        "Calculate the accuracy using confusion matrix.\n",
        "'''\n",
        "\n",
        "import pandas as pd\n",
        "import numpy as np\n",
        "import warnings\n",
        "warnings.filterwarnings(action='ignore')\n",
        "from sklearn.datasets import load_iris\n",
        "iris = load_iris()\n",
        "from sklearn.model_selection import train_test_split\n",
        "from sklearn.ensemble import BaggingClassifier, VotingClassifier\n",
        "from sklearn.tree import DecisionTreeClassifier\n",
        "from sklearn.metrics import accuracy_score, confusion_matrix\n",
        "\n",
        "# Load the iris dataset\n",
        "iris = load_iris()\n",
        "X = iris.data\n",
        "y = iris.target\n",
        "\n",
        "iris_data = iris.data\n",
        "iris_label = iris.target\n",
        "\n",
        "df = pd.DataFrame(data = iris_data, columns = iris.feature_names)\n",
        "df['label'] = iris.target\n",
        "df.head()\n",
        "\n",
        "X_train, X_test, y_train, y_test = train_test_split(X, y)\n",
        "\n",
        "# generate a decision tree classifier model\n",
        "tree_classifier = DecisionTreeClassifier()\n",
        "bagging_classifier = BaggingClassifier(tree_classifier, n_estimators=10)\n",
        "bagging_classifier.fit(X_train, y_train)\n",
        "\n",
        "# predict\n",
        "voting = VotingClassifier(estimators=[('bg', bagging_classifier)])\n",
        "voting.fit(X_train, y_train)\n",
        "y_pred = voting.predict(X_test)\n",
        "\n",
        "# calculate accuracy\n",
        "accuracy = accuracy_score(y_test, y_pred)\n",
        "print(\"Accuracy:\", accuracy)\n",
        "\n",
        "# Calculate confusion matrix\n",
        "cm = confusion_matrix(y_test, y_pred)\n",
        "print(\"Confusion Matrix:\")\n",
        "print(cm)\n"
      ],
      "metadata": {
        "colab": {
          "base_uri": "https://localhost:8080/"
        },
        "id": "tCxEClR6Od3B",
        "outputId": "b0bccdce-6a48-4ab2-8871-b5b3e2598423"
      },
      "execution_count": 17,
      "outputs": [
        {
          "output_type": "stream",
          "name": "stdout",
          "text": [
            "Accuracy: 0.9736842105263158\n",
            "Confusion Matrix:\n",
            "[[14  0  0]\n",
            " [ 0 13  0]\n",
            " [ 0  1 10]]\n"
          ]
        }
      ]
    }
  ]
}