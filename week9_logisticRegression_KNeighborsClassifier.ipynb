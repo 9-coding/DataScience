{
  "nbformat": 4,
  "nbformat_minor": 0,
  "metadata": {
    "colab": {
      "provenance": [],
      "authorship_tag": "ABX9TyMbyl748tivmFHGUBI0HAcc",
      "include_colab_link": true
    },
    "kernelspec": {
      "name": "python3",
      "display_name": "Python 3"
    },
    "language_info": {
      "name": "python"
    }
  },
  "cells": [
    {
      "cell_type": "markdown",
      "metadata": {
        "id": "view-in-github",
        "colab_type": "text"
      },
      "source": [
        "<a href=\"https://colab.research.google.com/github/9-coding/DataScience/blob/main/week9_logisticRegression_KNeighborsClassifier.ipynb\" target=\"_parent\"><img src=\"https://colab.research.google.com/assets/colab-badge.svg\" alt=\"Open In Colab\"/></a>"
      ]
    },
    {
      "cell_type": "code",
      "source": [
        "#drive mount\n",
        "import os, sys \n",
        "from google.colab import drive \n",
        "drive.mount('/content/mnt') "
      ],
      "metadata": {
        "colab": {
          "base_uri": "https://localhost:8080/"
        },
        "id": "g-BKOeEIviTu",
        "outputId": "7ac989ec-4b84-428c-b51a-c735d13c0848"
      },
      "execution_count": 10,
      "outputs": [
        {
          "output_type": "stream",
          "name": "stdout",
          "text": [
            "Drive already mounted at /content/mnt; to attempt to forcibly remount, call drive.mount(\"/content/mnt\", force_remount=True).\n"
          ]
        }
      ]
    },
    {
      "cell_type": "code",
      "source": [
        "# Change working directory to the location where the file is stored\n",
        "%cd /content/mnt/MyDrive/Colab Notebooks/DataScience"
      ],
      "metadata": {
        "colab": {
          "base_uri": "https://localhost:8080/"
        },
        "id": "MzzEsi88vkp-",
        "outputId": "ce1371d3-c7be-46b9-cbd1-ce800eff5e41"
      },
      "execution_count": 14,
      "outputs": [
        {
          "output_type": "stream",
          "name": "stdout",
          "text": [
            "/content/mnt/MyDrive/Colab Notebooks/DataScience\n"
          ]
        }
      ]
    },
    {
      "cell_type": "code",
      "execution_count": 1,
      "metadata": {
        "colab": {
          "base_uri": "https://localhost:8080/"
        },
        "id": "WJwdcGlQadGr",
        "outputId": "6654b0f8-b383-421c-e9c9-26adb8b898fc"
      },
      "outputs": [
        {
          "output_type": "stream",
          "name": "stdout",
          "text": [
            "0.9511111111111111\n"
          ]
        },
        {
          "output_type": "stream",
          "name": "stderr",
          "text": [
            "/usr/local/lib/python3.10/dist-packages/sklearn/linear_model/_logistic.py:458: ConvergenceWarning: lbfgs failed to converge (status=1):\n",
            "STOP: TOTAL NO. of ITERATIONS REACHED LIMIT.\n",
            "\n",
            "Increase the number of iterations (max_iter) or scale the data as shown in:\n",
            "    https://scikit-learn.org/stable/modules/preprocessing.html\n",
            "Please also refer to the documentation for alternative solver options:\n",
            "    https://scikit-learn.org/stable/modules/linear_model.html#logistic-regression\n",
            "  n_iter_i = _check_optimize_result(\n"
          ]
        }
      ],
      "source": [
        "from sklearn.datasets import load_digits\n",
        "from sklearn.model_selection import train_test_split\n",
        "from sklearn.linear_model import LogisticRegression\n",
        "\n",
        "digits = load_digits()\n",
        "X_train, X_test, y_train, y_test = train_test_split(digits.data, digits.target, test_size=0.25, random_state=0)\n",
        "\n",
        "logisticRegr = LogisticRegression()\n",
        "\n",
        "logisticRegr.fit(X_train, y_train)\n",
        "\n",
        "logisticRegr.predict(X_test[0].reshape(1,-1))\n",
        "logisticRegr.predict(X_test[0:10])\n",
        "\n",
        "predictions = logisticRegr.predict(X_test)\n",
        "\n",
        "score = logisticRegr.score(X_test, y_test)\n",
        "print(score)\n"
      ]
    },
    {
      "cell_type": "code",
      "source": [
        "import pandas as pd\n",
        "from sklearn.model_selection import train_test_split\n",
        "from sklearn.neighbors import KNeighborsClassifier\n",
        "\n",
        "df = pd.read_csv('/content/mnt/MyDrive/Colab Notebooks/DataScience/dataset/diabetes.csv')\n",
        "df.head()\n",
        "\n",
        "X = df.drop(columns=['Outcome'])\n",
        "X.head()\n",
        "\n",
        "y = df['Outcome'].values\n",
        "\n",
        "X_train, X_test, y_train, y_test = train_test_split(X, y, test_size=0.2, random_state=1, stratify=y)\n",
        "\n",
        "knn = KNeighborsClassifier(n_neighbors = 3)\n",
        "knn.fit(X_train, y_train)\n",
        "\n",
        "knn.predict(X_test)\n",
        "\n",
        "knn.score(X_test, y_test)\n"
      ],
      "metadata": {
        "colab": {
          "base_uri": "https://localhost:8080/"
        },
        "id": "fC9iCeJouZ9d",
        "outputId": "58f1fce4-057b-4ec6-de87-5dd8bb4265f2"
      },
      "execution_count": 28,
      "outputs": [
        {
          "output_type": "execute_result",
          "data": {
            "text/plain": [
              "0.6688311688311688"
            ]
          },
          "metadata": {},
          "execution_count": 28
        }
      ]
    }
  ]
}